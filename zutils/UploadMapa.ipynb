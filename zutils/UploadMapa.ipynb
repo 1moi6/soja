{
 "cells": [
  {
   "cell_type": "code",
   "execution_count": 25,
   "metadata": {},
   "outputs": [],
   "source": [
    "import requests\n",
    "import json\n",
    "from faker import Faker\n",
    "import random\n",
    "from datetime import datetime, timedelta\n",
    "import time"
   ]
  },
  {
   "cell_type": "code",
   "execution_count": 26,
   "metadata": {},
   "outputs": [],
   "source": [
    "# faz login\n",
    "access = {}\n",
    "url = 'http://127.0.0.1:8000/auth/api/token/'\n",
    "dados = {'email':\"moiseis@gmail.com\",'password':'saralice','username':'moiseis'}\n",
    "x = requests.post(url, json = dados)\n",
    "tokens = json.loads(x.text)\n",
    "\n",
    "access = tokens[\"access\"]\n",
    "\n"
   ]
  },
  {
   "cell_type": "code",
   "execution_count": 32,
   "metadata": {},
   "outputs": [
    {
     "name": "stdout",
     "output_type": "stream",
     "text": [
      "Erro ao enviar imagem:\n",
      "{\"nome\":[\"Not a valid string.\"]}\n"
     ]
    }
   ],
   "source": [
    "# URL da sua API\n",
    "url = 'http://127.0.0.1:8000/api/mapas/upload/'\n",
    "headers = {'Authorization': f'Bearer {access}'}\n",
    "\n",
    "files = {'mapa': (open('/Users/1moi6/GitHub/Desenvolvimento/backend/soja/zutils/imagemteste.png', 'rb'),\"nome\":'mapa1.png')}\n",
    "response = requests.post(url, files=files,headers=headers)\n",
    "\n",
    "# Verificando a resposta\n",
    "if response.status_code == 201:\n",
    "    print('Imagem enviada com sucesso!')\n",
    "    print(response.json())  # Se a API retornar dados JSON\n",
    "else:\n",
    "    print('Erro ao enviar imagem:')\n",
    "    print(response.text)  # Exibir detalhes do erro, se houver"
   ]
  },
  {
   "cell_type": "code",
   "execution_count": 23,
   "metadata": {},
   "outputs": [
    {
     "name": "stdout",
     "output_type": "stream",
     "text": [
      "{'id': 1, 'nome': '', 'mapa': '/mapas/nome_da_imagem.png'}\n"
     ]
    }
   ],
   "source": [
    "url = 'http://127.0.0.1:8000/api/mapa/1/'\n",
    "headers = {'Authorization': f'Bearer {access}'}\n",
    "\n",
    "\n",
    "response = requests.get(url, headers=headers)\n",
    "\n",
    "# Verificando a resposta\n",
    "if response.ok :\n",
    "    print(response.json())  # Se a API retornar dados JSON\n",
    "else:\n",
    "    print(response.text)  # Exibir detalhes do erro, se houver"
   ]
  },
  {
   "cell_type": "code",
   "execution_count": 4,
   "metadata": {},
   "outputs": [],
   "source": [
    "# URL da sua API\n",
    "url = 'http://127.0.0.1:8000/api/mapas/'\n",
    "headers = {'Authorization': f'Bearer {access}'}\n",
    "\n",
    "response = requests.get(url,headers=headers)\n"
   ]
  },
  {
   "cell_type": "code",
   "execution_count": 18,
   "metadata": {},
   "outputs": [],
   "source": [
    "# URL da sua API\n",
    "url = 'http://127.0.0.1:8000/api/mapa/1/'\n",
    "headers = {'Authorization': f'Bearer {access}'}\n",
    "\n",
    "response = requests.get(url,headers=headers)"
   ]
  },
  {
   "cell_type": "code",
   "execution_count": 19,
   "metadata": {},
   "outputs": [
    {
     "data": {
      "text/plain": [
       "b'{\"id\":1,\"nome\":\"\",\"mapa\":\"http://127.0.0.1:8000/mapas/nome_da_imagem.png\"}'"
      ]
     },
     "execution_count": 19,
     "metadata": {},
     "output_type": "execute_result"
    }
   ],
   "source": [
    "response.content"
   ]
  },
  {
   "cell_type": "markdown",
   "metadata": {},
   "source": []
  }
 ],
 "metadata": {
  "kernelspec": {
   "display_name": "centelha",
   "language": "python",
   "name": "python3"
  },
  "language_info": {
   "codemirror_mode": {
    "name": "ipython",
    "version": 3
   },
   "file_extension": ".py",
   "mimetype": "text/x-python",
   "name": "python",
   "nbconvert_exporter": "python",
   "pygments_lexer": "ipython3",
   "version": "3.11.5"
  }
 },
 "nbformat": 4,
 "nbformat_minor": 2
}
