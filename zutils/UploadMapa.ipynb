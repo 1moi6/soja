{
 "cells": [
  {
   "cell_type": "code",
   "execution_count": 2,
   "metadata": {},
   "outputs": [],
   "source": [
    "import requests\n",
    "import json\n",
    "from faker import Faker\n",
    "import random\n",
    "from datetime import datetime, timedelta\n",
    "import time"
   ]
  },
  {
   "cell_type": "code",
   "execution_count": 3,
   "metadata": {},
   "outputs": [],
   "source": [
    "# faz login\n",
    "access = {}\n",
    "url = 'http://127.0.0.1:8000/auth/api/token/'\n",
    "dados = {'email':\"moiseis@gmail.com\",'password':'saralice','username':'moiseis'}\n",
    "x = requests.post(url, json = dados)\n",
    "tokens = json.loads(x.text)\n",
    "\n",
    "access = tokens[\"access\"]\n",
    "\n"
   ]
  },
  {
   "cell_type": "code",
   "execution_count": 32,
   "metadata": {},
   "outputs": [
    {
     "name": "stdout",
     "output_type": "stream",
     "text": [
      "Erro ao enviar imagem:\n",
      "{\"nome\":[\"Not a valid string.\"]}\n"
     ]
    }
   ],
   "source": [
    "# URL da sua API\n",
    "url = 'http://127.0.0.1:8000/api/mapas/upload/'\n",
    "headers = {'Authorization': f'Bearer {access}'}\n",
    "\n",
    "files = {'mapa': (open('/Users/1moi6/GitHub/Desenvolvimento/backend/soja/zutils/imagemteste.png', 'rb'),\"nome\":'mapa1.png')}\n",
    "response = requests.post(url, files=files,headers=headers)\n",
    "\n",
    "# Verificando a resposta\n",
    "if response.status_code == 201:\n",
    "    print('Imagem enviada com sucesso!')\n",
    "    print(response.json())  # Se a API retornar dados JSON\n",
    "else:\n",
    "    print('Erro ao enviar imagem:')\n",
    "    print(response.text)  # Exibir detalhes do erro, se houver"
   ]
  },
  {
   "cell_type": "code",
   "execution_count": 4,
   "metadata": {},
   "outputs": [
    {
     "name": "stdout",
     "output_type": "stream",
     "text": [
      "<!DOCTYPE html>\n",
      "<html lang=\"en\">\n",
      "<head>\n",
      "  <meta http-equiv=\"content-type\" content=\"text/html; charset=utf-8\">\n",
      "  <title>Page not found at /api/mapa/1/</title>\n",
      "  <meta name=\"robots\" content=\"NONE,NOARCHIVE\">\n",
      "  <style type=\"text/css\">\n",
      "    html * { padding:0; margin:0; }\n",
      "    body * { padding:10px 20px; }\n",
      "    body * * { padding:0; }\n",
      "    body { font:small sans-serif; background:#eee; color:#000; }\n",
      "    body>div { border-bottom:1px solid #ddd; }\n",
      "    h1 { font-weight:normal; margin-bottom:.4em; }\n",
      "    h1 span { font-size:60%; color:#666; font-weight:normal; }\n",
      "    table { border:none; border-collapse: collapse; width:100%; }\n",
      "    td, th { vertical-align:top; padding:2px 3px; }\n",
      "    th { width:12em; text-align:right; color:#666; padding-right:.5em; }\n",
      "    #info { background:#f6f6f6; }\n",
      "    #info ol { margin: 0.5em 4em; }\n",
      "    #info ol li { font-family: monospace; }\n",
      "    #summary { background: #ffc; }\n",
      "    #explanation { background:#eee; border-bottom: 0px none; }\n",
      "    pre.exception_value { font-family: sans-serif; color: #575757; font-size: 1.5em; margin: 10px 0 10px 0; }\n",
      "  </style>\n",
      "</head>\n",
      "<body>\n",
      "  <div id=\"summary\">\n",
      "    <h1>Page not found <span>(404)</span></h1>\n",
      "    \n",
      "    <table class=\"meta\">\n",
      "      <tr>\n",
      "        <th>Request Method:</th>\n",
      "        <td>GET</td>\n",
      "      </tr>\n",
      "      <tr>\n",
      "        <th>Request URL:</th>\n",
      "        <td>http://127.0.0.1:8000/api/mapa/1/</td>\n",
      "      </tr>\n",
      "      \n",
      "    </table>\n",
      "  </div>\n",
      "  <div id=\"info\">\n",
      "    \n",
      "      <p>\n",
      "      Using the URLconf defined in <code>soja.urls</code>,\n",
      "      Django tried these URL patterns, in this order:\n",
      "      </p>\n",
      "      <ol>\n",
      "        \n",
      "          <li>\n",
      "            \n",
      "                appmapas/\n",
      "                \n",
      "            \n",
      "          </li>\n",
      "        \n",
      "          <li>\n",
      "            \n",
      "                admin/\n",
      "                \n",
      "            \n",
      "          </li>\n",
      "        \n",
      "          <li>\n",
      "            \n",
      "                auth/api/\n",
      "                \n",
      "            \n",
      "          </li>\n",
      "        \n",
      "          <li>\n",
      "            \n",
      "                \n",
      "                [name='TestaRotas']\n",
      "            \n",
      "          </li>\n",
      "        \n",
      "          <li>\n",
      "            \n",
      "                api/\n",
      "                \n",
      "            \n",
      "                mapas/\n",
      "                [name='mapa-list']\n",
      "            \n",
      "          </li>\n",
      "        \n",
      "          <li>\n",
      "            \n",
      "                api/\n",
      "                \n",
      "            \n",
      "                mapas/&lt;int:pk&gt;/\n",
      "                [name='mapa-detail']\n",
      "            \n",
      "          </li>\n",
      "        \n",
      "          <li>\n",
      "            \n",
      "                api/\n",
      "                \n",
      "            \n",
      "                mapas/upload/\n",
      "                [name='mapa-upload']\n",
      "            \n",
      "          </li>\n",
      "        \n",
      "          <li>\n",
      "            \n",
      "                api/\n",
      "                \n",
      "            \n",
      "                mapas/download/&lt;int:pk&gt;/\n",
      "                [name='mapa-download']\n",
      "            \n",
      "          </li>\n",
      "        \n",
      "          <li>\n",
      "            \n",
      "                api/\n",
      "                \n",
      "            \n",
      "                ^media/(?P&lt;path&gt;.*)$\n",
      "                \n",
      "            \n",
      "          </li>\n",
      "        \n",
      "          <li>\n",
      "            \n",
      "                frontend/\n",
      "                \n",
      "            \n",
      "          </li>\n",
      "        \n",
      "      </ol>\n",
      "      <p>\n",
      "        \n",
      "          The current path, <code>api/mapa/1/</code>,\n",
      "        \n",
      "        didn’t match any of these.\n",
      "      </p>\n",
      "    \n",
      "  </div>\n",
      "\n",
      "  <div id=\"explanation\">\n",
      "    <p>\n",
      "      You’re seeing this error because you have <code>DEBUG = True</code> in\n",
      "      your Django settings file. Change that to <code>False</code>, and Django\n",
      "      will display a standard 404 page.\n",
      "    </p>\n",
      "  </div>\n",
      "</body>\n",
      "</html>\n",
      "\n"
     ]
    }
   ],
   "source": [
    "url = 'http://127.0.0.1:8000/api/mapa/1/'\n",
    "headers = {'Authorization': f'Bearer {access}'}\n",
    "\n",
    "\n",
    "response = requests.get(url, headers=headers)\n",
    "\n",
    "# Verificando a resposta\n",
    "if response.ok :\n",
    "    print(response.json())  # Se a API retornar dados JSON\n",
    "else:\n",
    "    print(response.text)  # Exibir detalhes do erro, se houver"
   ]
  },
  {
   "cell_type": "code",
   "execution_count": 4,
   "metadata": {},
   "outputs": [],
   "source": [
    "# URL da sua API\n",
    "url = 'http://127.0.0.1:8000/api/mapas/'\n",
    "headers = {'Authorization': f'Bearer {access}'}\n",
    "\n",
    "response = requests.get(url,headers=headers)\n"
   ]
  },
  {
   "cell_type": "code",
   "execution_count": 18,
   "metadata": {},
   "outputs": [],
   "source": [
    "# URL da sua API\n",
    "url = 'http://127.0.0.1:8000/api/mapa/1/'\n",
    "headers = {'Authorization': f'Bearer {access}'}\n",
    "\n",
    "response = requests.get(url,headers=headers)"
   ]
  },
  {
   "cell_type": "code",
   "execution_count": 5,
   "metadata": {},
   "outputs": [
    {
     "data": {
      "text/plain": [
       "b'[{\"id\":1,\"nome\":\"\",\"mapa\":\"http://127.0.0.1:8000/api/media/mapas/nome_da_imagem.png\"},{\"id\":2,\"nome\":\"\",\"mapa\":\"http://127.0.0.1:8000/api/media/mapas/mapa1.png\"},{\"id\":3,\"nome\":\"testeback\",\"mapa\":\"http://127.0.0.1:8000/api/media/mapas/moiseis2.png\"},{\"id\":4,\"nome\":\"outro teste\",\"mapa\":\"http://127.0.0.1:8000/api/media/mapas/capa.png\"},{\"id\":5,\"nome\":\"asas\",\"mapa\":\"http://127.0.0.1:8000/api/media/mapas/moiseis.jpg\"},{\"id\":6,\"nome\":\"moiseis\",\"mapa\":\"http://127.0.0.1:8000/api/media/mapas/moiseis_sroivxC.jpg\"},{\"id\":7,\"nome\":\"moiseisn\",\"mapa\":\"http://127.0.0.1:8000/api/media/mapas/moiseis_2pTrhzW.jpg\"},{\"id\":8,\"nome\":\"moiseis\",\"mapa\":\"http://127.0.0.1:8000/api/media/mapas/moiseis2_8uZmr2p.png\"},{\"id\":9,\"nome\":\"moiseis\",\"mapa\":\"http://127.0.0.1:8000/api/media/mapas/moiseis2_hRGw9Ud.png\"},{\"id\":10,\"nome\":\"moiseis\",\"mapa\":\"http://127.0.0.1:8000/api/media/mapas/moiseis2_LQIJTSL.png\"},{\"id\":11,\"nome\":\"moiseis\",\"mapa\":\"http://127.0.0.1:8000/api/media/mapas/capa_DuIeG2h.png\"},{\"id\":12,\"nome\":\"moiseis\",\"mapa\":\"http://127.0.0.1:8000/api/media/mapas/moiseis2_lK7osZQ.png\"},{\"id\":13,\"nome\":\"moiseis\",\"mapa\":\"http://127.0.0.1:8000/api/media/mapas/moiseis_vJS1iks.jpg\"}]'"
      ]
     },
     "execution_count": 5,
     "metadata": {},
     "output_type": "execute_result"
    }
   ],
   "source": [
    "response.content"
   ]
  },
  {
   "cell_type": "markdown",
   "metadata": {},
   "source": []
  }
 ],
 "metadata": {
  "kernelspec": {
   "display_name": "centelha",
   "language": "python",
   "name": "python3"
  },
  "language_info": {
   "codemirror_mode": {
    "name": "ipython",
    "version": 3
   },
   "file_extension": ".py",
   "mimetype": "text/x-python",
   "name": "python",
   "nbconvert_exporter": "python",
   "pygments_lexer": "ipython3",
   "version": "3.11.5"
  }
 },
 "nbformat": 4,
 "nbformat_minor": 2
}
